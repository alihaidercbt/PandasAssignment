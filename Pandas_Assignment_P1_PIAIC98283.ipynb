{
 "cells": [
  {
   "cell_type": "code",
   "execution_count": 19,
   "metadata": {},
   "outputs": [],
   "source": [
    "import matplotlib.pyplot as plt\n",
    "import pandas as pd\n",
    "import numpy as np\n",
    "from glob import glob\n",
    "import re"
   ]
  },
  {
   "cell_type": "markdown",
   "metadata": {},
   "source": [
    "2.Using glob, loop through the census files available and load them into DataFrames. Then, concatenate all of those DataFrames together into one DataFrame, called something like us_census."
   ]
  },
  {
   "cell_type": "code",
   "execution_count": 20,
   "metadata": {},
   "outputs": [
    {
     "data": {
      "text/html": [
       "<div>\n",
       "<style scoped>\n",
       "    .dataframe tbody tr th:only-of-type {\n",
       "        vertical-align: middle;\n",
       "    }\n",
       "\n",
       "    .dataframe tbody tr th {\n",
       "        vertical-align: top;\n",
       "    }\n",
       "\n",
       "    .dataframe thead th {\n",
       "        text-align: right;\n",
       "    }\n",
       "</style>\n",
       "<table border=\"1\" class=\"dataframe\">\n",
       "  <thead>\n",
       "    <tr style=\"text-align: right;\">\n",
       "      <th></th>\n",
       "      <th>Unnamed: 0</th>\n",
       "      <th>State</th>\n",
       "      <th>TotalPop</th>\n",
       "      <th>Hispanic</th>\n",
       "      <th>White</th>\n",
       "      <th>Black</th>\n",
       "      <th>Native</th>\n",
       "      <th>Asian</th>\n",
       "      <th>Pacific</th>\n",
       "      <th>Income</th>\n",
       "      <th>GenderPop</th>\n",
       "    </tr>\n",
       "  </thead>\n",
       "  <tbody>\n",
       "    <tr>\n",
       "      <th>0</th>\n",
       "      <td>0</td>\n",
       "      <td>Alabama</td>\n",
       "      <td>4830620</td>\n",
       "      <td>3.7516156462584975%</td>\n",
       "      <td>61.878656462585%</td>\n",
       "      <td>31.25297619047618%</td>\n",
       "      <td>0.4532312925170065%</td>\n",
       "      <td>1.0502551020408146%</td>\n",
       "      <td>0.03435374149659865%</td>\n",
       "      <td>$43296.35860306644</td>\n",
       "      <td>2341093M_2489527F</td>\n",
       "    </tr>\n",
       "    <tr>\n",
       "      <th>1</th>\n",
       "      <td>1</td>\n",
       "      <td>Alaska</td>\n",
       "      <td>733375</td>\n",
       "      <td>5.909580838323351%</td>\n",
       "      <td>60.910179640718574%</td>\n",
       "      <td>2.8485029940119775%</td>\n",
       "      <td>16.39101796407186%</td>\n",
       "      <td>5.450299401197604%</td>\n",
       "      <td>1.0586826347305378%</td>\n",
       "      <td>$70354.74390243902</td>\n",
       "      <td>384160M_349215F</td>\n",
       "    </tr>\n",
       "    <tr>\n",
       "      <th>2</th>\n",
       "      <td>2</td>\n",
       "      <td>Arizona</td>\n",
       "      <td>6641928</td>\n",
       "      <td>29.565921052631502%</td>\n",
       "      <td>57.120000000000026%</td>\n",
       "      <td>3.8509868421052658%</td>\n",
       "      <td>4.35506578947368%</td>\n",
       "      <td>2.876578947368419%</td>\n",
       "      <td>0.16763157894736833%</td>\n",
       "      <td>$54207.82095490716</td>\n",
       "      <td>3299088M_3342840F</td>\n",
       "    </tr>\n",
       "    <tr>\n",
       "      <th>3</th>\n",
       "      <td>3</td>\n",
       "      <td>Arkansas</td>\n",
       "      <td>2958208</td>\n",
       "      <td>6.215474452554738%</td>\n",
       "      <td>71.13781021897813%</td>\n",
       "      <td>18.968759124087573%</td>\n",
       "      <td>0.5229197080291965%</td>\n",
       "      <td>1.1423357664233578%</td>\n",
       "      <td>0.14686131386861315%</td>\n",
       "      <td>$41935.63396778917</td>\n",
       "      <td>1451913M_1506295F</td>\n",
       "    </tr>\n",
       "    <tr>\n",
       "      <th>4</th>\n",
       "      <td>4</td>\n",
       "      <td>California</td>\n",
       "      <td>38421464</td>\n",
       "      <td>37.291874687968054%</td>\n",
       "      <td>40.21578881677474%</td>\n",
       "      <td>5.677396405391911%</td>\n",
       "      <td>0.40529206190713685%</td>\n",
       "      <td>13.052234148776776%</td>\n",
       "      <td>0.35141038442336353%</td>\n",
       "      <td>$67264.78230266465</td>\n",
       "      <td>19087135M_19334329F</td>\n",
       "    </tr>\n",
       "  </tbody>\n",
       "</table>\n",
       "</div>"
      ],
      "text/plain": [
       "   Unnamed: 0       State  TotalPop             Hispanic                White  \\\n",
       "0           0     Alabama   4830620  3.7516156462584975%     61.878656462585%   \n",
       "1           1      Alaska    733375   5.909580838323351%  60.910179640718574%   \n",
       "2           2     Arizona   6641928  29.565921052631502%  57.120000000000026%   \n",
       "3           3    Arkansas   2958208   6.215474452554738%   71.13781021897813%   \n",
       "4           4  California  38421464  37.291874687968054%   40.21578881677474%   \n",
       "\n",
       "                 Black                Native                Asian  \\\n",
       "0   31.25297619047618%   0.4532312925170065%  1.0502551020408146%   \n",
       "1  2.8485029940119775%    16.39101796407186%   5.450299401197604%   \n",
       "2  3.8509868421052658%     4.35506578947368%   2.876578947368419%   \n",
       "3  18.968759124087573%   0.5229197080291965%  1.1423357664233578%   \n",
       "4   5.677396405391911%  0.40529206190713685%  13.052234148776776%   \n",
       "\n",
       "                Pacific              Income            GenderPop  \n",
       "0  0.03435374149659865%  $43296.35860306644    2341093M_2489527F  \n",
       "1   1.0586826347305378%  $70354.74390243902      384160M_349215F  \n",
       "2  0.16763157894736833%  $54207.82095490716    3299088M_3342840F  \n",
       "3  0.14686131386861315%  $41935.63396778917    1451913M_1506295F  \n",
       "4  0.35141038442336353%  $67264.78230266465  19087135M_19334329F  "
      ]
     },
     "execution_count": 20,
     "metadata": {},
     "output_type": "execute_result"
    }
   ],
   "source": [
    "files=glob('states*')\n",
    "us_census=pd.concat((pd.read_csv(file)for file in files), ignore_index=True)\n",
    "us_census.head()"
   ]
  },
  {
   "cell_type": "markdown",
   "metadata": {},
   "source": [
    "3.Look at the .columns and the .dtypes of the us_census DataFrame."
   ]
  },
  {
   "cell_type": "code",
   "execution_count": 21,
   "metadata": {},
   "outputs": [
    {
     "data": {
      "text/plain": [
       "Index(['Unnamed: 0', 'State', 'TotalPop', 'Hispanic', 'White', 'Black',\n",
       "       'Native', 'Asian', 'Pacific', 'Income', 'GenderPop'],\n",
       "      dtype='object')"
      ]
     },
     "execution_count": 21,
     "metadata": {},
     "output_type": "execute_result"
    }
   ],
   "source": [
    "us_census.columns"
   ]
  },
  {
   "cell_type": "code",
   "execution_count": 22,
   "metadata": {},
   "outputs": [
    {
     "data": {
      "text/plain": [
       "Unnamed: 0     int64\n",
       "State         object\n",
       "TotalPop       int64\n",
       "Hispanic      object\n",
       "White         object\n",
       "Black         object\n",
       "Native        object\n",
       "Asian         object\n",
       "Pacific       object\n",
       "Income        object\n",
       "GenderPop     object\n",
       "dtype: object"
      ]
     },
     "execution_count": 22,
     "metadata": {},
     "output_type": "execute_result"
    }
   ],
   "source": [
    "us_census.dtypes"
   ]
  },
  {
   "cell_type": "markdown",
   "metadata": {},
   "source": [
    "4.Look at the .head() of the DataFrame so that you can understand why some of these dtypes are objects instead of integers or floats."
   ]
  },
  {
   "cell_type": "code",
   "execution_count": 23,
   "metadata": {},
   "outputs": [
    {
     "data": {
      "text/html": [
       "<div>\n",
       "<style scoped>\n",
       "    .dataframe tbody tr th:only-of-type {\n",
       "        vertical-align: middle;\n",
       "    }\n",
       "\n",
       "    .dataframe tbody tr th {\n",
       "        vertical-align: top;\n",
       "    }\n",
       "\n",
       "    .dataframe thead th {\n",
       "        text-align: right;\n",
       "    }\n",
       "</style>\n",
       "<table border=\"1\" class=\"dataframe\">\n",
       "  <thead>\n",
       "    <tr style=\"text-align: right;\">\n",
       "      <th></th>\n",
       "      <th>Unnamed: 0</th>\n",
       "      <th>State</th>\n",
       "      <th>TotalPop</th>\n",
       "      <th>Hispanic</th>\n",
       "      <th>White</th>\n",
       "      <th>Black</th>\n",
       "      <th>Native</th>\n",
       "      <th>Asian</th>\n",
       "      <th>Pacific</th>\n",
       "      <th>Income</th>\n",
       "      <th>GenderPop</th>\n",
       "    </tr>\n",
       "  </thead>\n",
       "  <tbody>\n",
       "    <tr>\n",
       "      <th>0</th>\n",
       "      <td>0</td>\n",
       "      <td>Alabama</td>\n",
       "      <td>4830620</td>\n",
       "      <td>3.7516156462584975%</td>\n",
       "      <td>61.878656462585%</td>\n",
       "      <td>31.25297619047618%</td>\n",
       "      <td>0.4532312925170065%</td>\n",
       "      <td>1.0502551020408146%</td>\n",
       "      <td>0.03435374149659865%</td>\n",
       "      <td>$43296.35860306644</td>\n",
       "      <td>2341093M_2489527F</td>\n",
       "    </tr>\n",
       "    <tr>\n",
       "      <th>1</th>\n",
       "      <td>1</td>\n",
       "      <td>Alaska</td>\n",
       "      <td>733375</td>\n",
       "      <td>5.909580838323351%</td>\n",
       "      <td>60.910179640718574%</td>\n",
       "      <td>2.8485029940119775%</td>\n",
       "      <td>16.39101796407186%</td>\n",
       "      <td>5.450299401197604%</td>\n",
       "      <td>1.0586826347305378%</td>\n",
       "      <td>$70354.74390243902</td>\n",
       "      <td>384160M_349215F</td>\n",
       "    </tr>\n",
       "    <tr>\n",
       "      <th>2</th>\n",
       "      <td>2</td>\n",
       "      <td>Arizona</td>\n",
       "      <td>6641928</td>\n",
       "      <td>29.565921052631502%</td>\n",
       "      <td>57.120000000000026%</td>\n",
       "      <td>3.8509868421052658%</td>\n",
       "      <td>4.35506578947368%</td>\n",
       "      <td>2.876578947368419%</td>\n",
       "      <td>0.16763157894736833%</td>\n",
       "      <td>$54207.82095490716</td>\n",
       "      <td>3299088M_3342840F</td>\n",
       "    </tr>\n",
       "  </tbody>\n",
       "</table>\n",
       "</div>"
      ],
      "text/plain": [
       "   Unnamed: 0    State  TotalPop             Hispanic                White  \\\n",
       "0           0  Alabama   4830620  3.7516156462584975%     61.878656462585%   \n",
       "1           1   Alaska    733375   5.909580838323351%  60.910179640718574%   \n",
       "2           2  Arizona   6641928  29.565921052631502%  57.120000000000026%   \n",
       "\n",
       "                 Black               Native                Asian  \\\n",
       "0   31.25297619047618%  0.4532312925170065%  1.0502551020408146%   \n",
       "1  2.8485029940119775%   16.39101796407186%   5.450299401197604%   \n",
       "2  3.8509868421052658%    4.35506578947368%   2.876578947368419%   \n",
       "\n",
       "                Pacific              Income          GenderPop  \n",
       "0  0.03435374149659865%  $43296.35860306644  2341093M_2489527F  \n",
       "1   1.0586826347305378%  $70354.74390243902    384160M_349215F  \n",
       "2  0.16763157894736833%  $54207.82095490716  3299088M_3342840F  "
      ]
     },
     "execution_count": 23,
     "metadata": {},
     "output_type": "execute_result"
    }
   ],
   "source": [
    "us_census.head(3)"
   ]
  },
  {
   "cell_type": "markdown",
   "metadata": {},
   "source": [
    "\n",
    "5.Use regex to turn the Income column into a format that is ready for conversion into a numerical type."
   ]
  },
  {
   "cell_type": "code",
   "execution_count": 24,
   "metadata": {},
   "outputs": [
    {
     "name": "stdout",
     "output_type": "stream",
     "text": [
      "Datatype of Income column after conversion is:  float64\n"
     ]
    }
   ],
   "source": [
    "us_census[\"Income\"]=us_census[\"Income\"].replace(\"\\$\",\"\",regex=True)\n",
    "us_census[\"Income\"]=us_census[\"Income\"].astype(\"float\")\n",
    "print(\"Datatype of Income column after conversion is: \" , us_census[\"Income\"].dtypes)"
   ]
  },
  {
   "cell_type": "markdown",
   "metadata": {},
   "source": [
    "6.Look at the GenderPop column. We are going to want to separate this into two columns, the Men column, and the Women column. Split the column into those two new columns using str.split and separating out those results."
   ]
  },
  {
   "cell_type": "code",
   "execution_count": 25,
   "metadata": {},
   "outputs": [
    {
     "data": {
      "text/plain": [
       "0      2341093M_2489527F\n",
       "1        384160M_349215F\n",
       "2      3299088M_3342840F\n",
       "3      1451913M_1506295F\n",
       "4    19087135M_19334329F\n",
       "Name: GenderPop, dtype: object"
      ]
     },
     "execution_count": 25,
     "metadata": {},
     "output_type": "execute_result"
    }
   ],
   "source": [
    "us_census[\"GenderPop\"].head()"
   ]
  },
  {
   "cell_type": "code",
   "execution_count": 26,
   "metadata": {},
   "outputs": [],
   "source": [
    "GenderPop_split = us_census[\"GenderPop\"].str.split(\"_\", expand=True)\n",
    "us_census[\"Male\"]= GenderPop_split[0].str.extract(\"(\\d+)\", expand=True)\n",
    "us_census[\"Female\"]= GenderPop_split[1].str.extract(\"(\\d+)\", expand=True)"
   ]
  },
  {
   "cell_type": "markdown",
   "metadata": {},
   "source": [
    "7.Convert both of the columns into numerical datatypes."
   ]
  },
  {
   "cell_type": "code",
   "execution_count": 27,
   "metadata": {},
   "outputs": [],
   "source": [
    "us_census[\"Male\"]=pd.to_numeric(us_census[\"Male\"])\n",
    "us_census[\"Female\"]=pd.to_numeric(us_census[\"Female\"])"
   ]
  },
  {
   "cell_type": "code",
   "execution_count": 28,
   "metadata": {},
   "outputs": [],
   "source": [
    "#Removing extra columns from our Dataframe\n",
    "us_census=us_census.drop([\"GenderPop\",\"Unnamed: 0\"], axis=1)"
   ]
  },
  {
   "cell_type": "markdown",
   "metadata": {},
   "source": [
    "8.Now you should have the columns you need to make the graph and make sure your boss does not slam a ruler angrily on your desk because you’ve wasted your whole day cleaning your data with no results to show! Use matplotlib to make a scatterplot!\n",
    "\n",
    "plt.scatter(the_women_column, the_income_column) Remember to call plt.show() to see the graph!"
   ]
  },
  {
   "cell_type": "code",
   "execution_count": 29,
   "metadata": {},
   "outputs": [
    {
     "data": {
      "image/png": "[encoded data removed]",
      "text/plain": [
       "<Figure size 432x288 with 1 Axes>"
      ]
     },
     "metadata": {
      "needs_background": "light"
     },
     "output_type": "display_data"
    }
   ],
   "source": [
    "x=us_census[\"Income\"]\n",
    "y=us_census[\"Female\"]\n",
    "plt.scatter(x,y)\n",
    "plt.xlabel(\"income\")\n",
    "plt.ylabel(\"female\")\n",
    "plt.show()"
   ]
  },
  {
   "cell_type": "markdown",
   "metadata": {},
   "source": [
    "9. Did you get an error? These monstrous csv files probably have nan values in them! Print out your column with the number of women per state to see.\n",
    "\n",
    "We can fill in those nans by using pandas’ .fillna() function.\n",
    "\n",
    "You have the TotalPop per state, and you have the Men per state. As an estimate for the nan values in the Women column, you could use the TotalPop of that state minus the Men for that state. Print out the Women column after filling the nan values to see if it worked!"
   ]
  },
  {
   "cell_type": "code",
   "execution_count": 30,
   "metadata": {},
   "outputs": [
    {
     "data": {
      "text/plain": [
       "23   NaN\n",
       "24   NaN\n",
       "31   NaN\n",
       "Name: Female, dtype: float64"
      ]
     },
     "execution_count": 30,
     "metadata": {},
     "output_type": "execute_result"
    }
   ],
   "source": [
    "Female_null_values=us_census[\"Female\"][us_census[\"Female\"].isnull()]\n",
    "Female_null_values"
   ]
  },
  {
   "cell_type": "code",
   "execution_count": 31,
   "metadata": {},
   "outputs": [
    {
     "data": {
      "text/plain": [
       "0      2489527.0\n",
       "1       349215.0\n",
       "2      3342840.0\n",
       "3      1506295.0\n",
       "4     19334329.0\n",
       "5      2630239.0\n",
       "6      2630239.0\n",
       "7      1841615.0\n",
       "8       478041.0\n",
       "9       340810.0\n",
       "10    10045763.0\n",
       "11     5123362.0\n",
       "12     5123362.0\n",
       "13      696428.0\n",
       "14      806083.0\n",
       "15     6556862.0\n",
       "16     3333382.0\n",
       "17     1558931.0\n",
       "18     1558931.0\n",
       "19     1453125.0\n",
       "20     2233145.0\n",
       "21     2364097.0\n",
       "22      679019.0\n",
       "23     3057895.0\n",
       "24     3057895.0\n",
       "25     3455936.0\n",
       "26     5038598.0\n",
       "27     2727005.0\n",
       "28     1536358.0\n",
       "29     3081445.0\n",
       "30     3081445.0\n",
       "31      504536.0\n",
       "32      939759.0\n",
       "33     1390901.0\n",
       "34      670717.0\n",
       "35     4561386.0\n",
       "36     4561386.0\n",
       "37     1051703.0\n",
       "38    10131373.0\n",
       "39     5049925.0\n",
       "40      353677.0\n",
       "41     5913084.0\n",
       "42     5913084.0\n",
       "43     1942789.0\n",
       "44     1990780.0\n",
       "45     6534215.0\n",
       "46     1869213.0\n",
       "47      543273.0\n",
       "48      543273.0\n",
       "49     2455167.0\n",
       "50      419713.0\n",
       "51     3331859.0\n",
       "52    13367298.0\n",
       "53     1444150.0\n",
       "54     1444150.0\n",
       "55      318031.0\n",
       "56     4195682.0\n",
       "57     3497739.0\n",
       "58      937789.0\n",
       "59     2890732.0\n",
       "Name: Female, dtype: float64"
      ]
     },
     "execution_count": 31,
     "metadata": {},
     "output_type": "execute_result"
    }
   ],
   "source": [
    "females=us_census[\"TotalPop\"]-us_census[\"Male\"]\n",
    "us_census[\"Female\"]=us_census[\"Female\"].fillna(value=females)\n",
    "us_census['Female']"
   ]
  },
  {
   "cell_type": "markdown",
   "metadata": {},
   "source": [
    "10.We forgot to check for duplicates! Use .duplicated() on your census DataFrame to see if we have duplicate rows in there."
   ]
  },
  {
   "cell_type": "code",
   "execution_count": 32,
   "metadata": {},
   "outputs": [],
   "source": [
    "Duplicates=us_census[us_census.duplicated()]"
   ]
  },
  {
   "cell_type": "markdown",
   "metadata": {},
   "source": [
    "11.Drop those duplicates using the .drop_duplicates() function."
   ]
  },
  {
   "cell_type": "code",
   "execution_count": 33,
   "metadata": {},
   "outputs": [],
   "source": [
    "us_census.drop_duplicates(keep=\"first\", inplace=True)"
   ]
  },
  {
   "cell_type": "markdown",
   "metadata": {},
   "source": [
    "12.Make the scatterplot again. Now, it should be perfect! Your job is secure, for now."
   ]
  },
  {
   "cell_type": "code",
   "execution_count": 34,
   "metadata": {},
   "outputs": [
    {
     "data": {
      "image/png": "[encoded data removed]",
      "text/plain": [
       "<Figure size 432x288 with 1 Axes>"
      ]
     },
     "metadata": {
      "needs_background": "light"
     },
     "output_type": "display_data"
    }
   ],
   "source": [
    "x=us_census[\"Income\"]\n",
    "y=us_census[\"Female\"]\n",
    "plt.scatter(x,y)\n",
    "plt.xlabel(\"income\")\n",
    "plt.ylabel(\"female\")\n",
    "plt.show()"
   ]
  },
  {
   "cell_type": "markdown",
   "metadata": {},
   "source": [
    "13.Now, your boss wants you to make a bunch of histograms out of the race data that you have. Look at the .columns again to see what the race categories are."
   ]
  },
  {
   "cell_type": "code",
   "execution_count": 35,
   "metadata": {},
   "outputs": [
    {
     "data": {
      "text/plain": [
       "Index(['State', 'TotalPop', 'Hispanic', 'White', 'Black', 'Native', 'Asian',\n",
       "       'Pacific', 'Income', 'Male', 'Female'],\n",
       "      dtype='object')"
      ]
     },
     "execution_count": 35,
     "metadata": {},
     "output_type": "execute_result"
    }
   ],
   "source": [
    "us_census.columns"
   ]
  },
  {
   "cell_type": "markdown",
   "metadata": {},
   "source": [
    "14. Try to make a histogram for each one!\n",
    "\n",
    "You will have to get the columns into numerical format, and those percentage signs will have to go.\n",
    "\n",
    "Don’t forget to fill the nan values with something that makes sense! You probably dropped the duplicate rows when making your last graph, but it couldn’t hurt to check for duplicates again."
   ]
  },
  {
   "cell_type": "code",
   "execution_count": 36,
   "metadata": {},
   "outputs": [
    {
     "data": {
      "text/html": [
       "<div>\n",
       "<style scoped>\n",
       "    .dataframe tbody tr th:only-of-type {\n",
       "        vertical-align: middle;\n",
       "    }\n",
       "\n",
       "    .dataframe tbody tr th {\n",
       "        vertical-align: top;\n",
       "    }\n",
       "\n",
       "    .dataframe thead th {\n",
       "        text-align: right;\n",
       "    }\n",
       "</style>\n",
       "<table border=\"1\" class=\"dataframe\">\n",
       "  <thead>\n",
       "    <tr style=\"text-align: right;\">\n",
       "      <th></th>\n",
       "      <th>Hispanic</th>\n",
       "      <th>White</th>\n",
       "      <th>Black</th>\n",
       "      <th>Native</th>\n",
       "      <th>Asian</th>\n",
       "      <th>Pacific</th>\n",
       "    </tr>\n",
       "  </thead>\n",
       "  <tbody>\n",
       "    <tr>\n",
       "      <th>0</th>\n",
       "      <td>3.751616</td>\n",
       "      <td>61.878656</td>\n",
       "      <td>31.252976</td>\n",
       "      <td>0.453231</td>\n",
       "      <td>1.050255</td>\n",
       "      <td>0.034354</td>\n",
       "    </tr>\n",
       "    <tr>\n",
       "      <th>1</th>\n",
       "      <td>5.909581</td>\n",
       "      <td>60.910180</td>\n",
       "      <td>2.848503</td>\n",
       "      <td>16.391018</td>\n",
       "      <td>5.450299</td>\n",
       "      <td>1.058683</td>\n",
       "    </tr>\n",
       "    <tr>\n",
       "      <th>2</th>\n",
       "      <td>29.565921</td>\n",
       "      <td>57.120000</td>\n",
       "      <td>3.850987</td>\n",
       "      <td>4.355066</td>\n",
       "      <td>2.876579</td>\n",
       "      <td>0.167632</td>\n",
       "    </tr>\n",
       "    <tr>\n",
       "      <th>3</th>\n",
       "      <td>6.215474</td>\n",
       "      <td>71.137810</td>\n",
       "      <td>18.968759</td>\n",
       "      <td>0.522920</td>\n",
       "      <td>1.142336</td>\n",
       "      <td>0.146861</td>\n",
       "    </tr>\n",
       "    <tr>\n",
       "      <th>4</th>\n",
       "      <td>37.291875</td>\n",
       "      <td>40.215789</td>\n",
       "      <td>5.677396</td>\n",
       "      <td>0.405292</td>\n",
       "      <td>13.052234</td>\n",
       "      <td>0.351410</td>\n",
       "    </tr>\n",
       "    <tr>\n",
       "      <th>5</th>\n",
       "      <td>20.784380</td>\n",
       "      <td>69.895572</td>\n",
       "      <td>3.546377</td>\n",
       "      <td>0.573833</td>\n",
       "      <td>2.661997</td>\n",
       "      <td>0.000000</td>\n",
       "    </tr>\n",
       "    <tr>\n",
       "      <th>7</th>\n",
       "      <td>15.604831</td>\n",
       "      <td>67.677053</td>\n",
       "      <td>10.348068</td>\n",
       "      <td>0.126208</td>\n",
       "      <td>4.021981</td>\n",
       "      <td>0.018599</td>\n",
       "    </tr>\n",
       "    <tr>\n",
       "      <th>8</th>\n",
       "      <td>8.824766</td>\n",
       "      <td>64.632710</td>\n",
       "      <td>20.743925</td>\n",
       "      <td>0.259813</td>\n",
       "      <td>3.268692</td>\n",
       "      <td>0.000000</td>\n",
       "    </tr>\n",
       "    <tr>\n",
       "      <th>9</th>\n",
       "      <td>9.165922</td>\n",
       "      <td>33.103911</td>\n",
       "      <td>51.776536</td>\n",
       "      <td>0.200559</td>\n",
       "      <td>3.383240</td>\n",
       "      <td>0.029609</td>\n",
       "    </tr>\n",
       "    <tr>\n",
       "      <th>10</th>\n",
       "      <td>21.338543</td>\n",
       "      <td>59.083749</td>\n",
       "      <td>15.165676</td>\n",
       "      <td>0.210451</td>\n",
       "      <td>2.283174</td>\n",
       "      <td>0.051510</td>\n",
       "    </tr>\n",
       "    <tr>\n",
       "      <th>11</th>\n",
       "      <td>8.418242</td>\n",
       "      <td>54.286306</td>\n",
       "      <td>32.088298</td>\n",
       "      <td>0.187583</td>\n",
       "      <td>3.097649</td>\n",
       "      <td>0.046602</td>\n",
       "    </tr>\n",
       "    <tr>\n",
       "      <th>13</th>\n",
       "      <td>9.186709</td>\n",
       "      <td>25.032278</td>\n",
       "      <td>2.052848</td>\n",
       "      <td>0.144937</td>\n",
       "      <td>36.592089</td>\n",
       "      <td>8.758861</td>\n",
       "    </tr>\n",
       "    <tr>\n",
       "      <th>14</th>\n",
       "      <td>11.505369</td>\n",
       "      <td>83.136242</td>\n",
       "      <td>0.566779</td>\n",
       "      <td>1.468121</td>\n",
       "      <td>1.135906</td>\n",
       "      <td>0.127181</td>\n",
       "    </tr>\n",
       "    <tr>\n",
       "      <th>15</th>\n",
       "      <td>15.601734</td>\n",
       "      <td>60.859807</td>\n",
       "      <td>17.108411</td>\n",
       "      <td>0.118427</td>\n",
       "      <td>4.475377</td>\n",
       "      <td>0.020032</td>\n",
       "    </tr>\n",
       "    <tr>\n",
       "      <th>16</th>\n",
       "      <td>6.536744</td>\n",
       "      <td>78.431894</td>\n",
       "      <td>11.186977</td>\n",
       "      <td>0.194086</td>\n",
       "      <td>1.578272</td>\n",
       "      <td>0.032625</td>\n",
       "    </tr>\n",
       "    <tr>\n",
       "      <th>17</th>\n",
       "      <td>5.303645</td>\n",
       "      <td>87.719684</td>\n",
       "      <td>3.256987</td>\n",
       "      <td>0.289793</td>\n",
       "      <td>1.699392</td>\n",
       "      <td>0.055164</td>\n",
       "    </tr>\n",
       "    <tr>\n",
       "      <th>19</th>\n",
       "      <td>11.644342</td>\n",
       "      <td>75.958289</td>\n",
       "      <td>6.567895</td>\n",
       "      <td>0.733947</td>\n",
       "      <td>2.331053</td>\n",
       "      <td>0.000000</td>\n",
       "    </tr>\n",
       "    <tr>\n",
       "      <th>20</th>\n",
       "      <td>3.222994</td>\n",
       "      <td>85.230748</td>\n",
       "      <td>8.272317</td>\n",
       "      <td>0.166637</td>\n",
       "      <td>1.129847</td>\n",
       "      <td>0.046438</td>\n",
       "    </tr>\n",
       "    <tr>\n",
       "      <th>21</th>\n",
       "      <td>4.866489</td>\n",
       "      <td>54.978546</td>\n",
       "      <td>36.326241</td>\n",
       "      <td>0.484309</td>\n",
       "      <td>1.669060</td>\n",
       "      <td>0.039184</td>\n",
       "    </tr>\n",
       "    <tr>\n",
       "      <th>22</th>\n",
       "      <td>1.431909</td>\n",
       "      <td>93.707407</td>\n",
       "      <td>1.134473</td>\n",
       "      <td>0.788319</td>\n",
       "      <td>0.965812</td>\n",
       "      <td>0.015670</td>\n",
       "    </tr>\n",
       "    <tr>\n",
       "      <th>23</th>\n",
       "      <td>8.472498</td>\n",
       "      <td>52.679050</td>\n",
       "      <td>30.677754</td>\n",
       "      <td>0.203096</td>\n",
       "      <td>5.325414</td>\n",
       "      <td>0.036285</td>\n",
       "    </tr>\n",
       "    <tr>\n",
       "      <th>25</th>\n",
       "      <td>11.461066</td>\n",
       "      <td>73.041052</td>\n",
       "      <td>6.833128</td>\n",
       "      <td>0.128279</td>\n",
       "      <td>5.835656</td>\n",
       "      <td>0.019809</td>\n",
       "    </tr>\n",
       "    <tr>\n",
       "      <th>26</th>\n",
       "      <td>4.634993</td>\n",
       "      <td>72.381722</td>\n",
       "      <td>17.633103</td>\n",
       "      <td>0.484411</td>\n",
       "      <td>2.423110</td>\n",
       "      <td>0.019549</td>\n",
       "    </tr>\n",
       "    <tr>\n",
       "      <th>27</th>\n",
       "      <td>5.152924</td>\n",
       "      <td>81.427061</td>\n",
       "      <td>5.659820</td>\n",
       "      <td>1.069040</td>\n",
       "      <td>4.156072</td>\n",
       "      <td>0.032909</td>\n",
       "    </tr>\n",
       "    <tr>\n",
       "      <th>28</th>\n",
       "      <td>2.842401</td>\n",
       "      <td>53.286322</td>\n",
       "      <td>41.491945</td>\n",
       "      <td>0.389970</td>\n",
       "      <td>0.876444</td>\n",
       "      <td>0.015046</td>\n",
       "    </tr>\n",
       "    <tr>\n",
       "      <th>29</th>\n",
       "      <td>4.037248</td>\n",
       "      <td>77.508069</td>\n",
       "      <td>14.122118</td>\n",
       "      <td>0.363329</td>\n",
       "      <td>1.624496</td>\n",
       "      <td>0.101657</td>\n",
       "    </tr>\n",
       "    <tr>\n",
       "      <th>31</th>\n",
       "      <td>3.268889</td>\n",
       "      <td>86.415556</td>\n",
       "      <td>0.429259</td>\n",
       "      <td>7.060741</td>\n",
       "      <td>0.570370</td>\n",
       "      <td>0.072222</td>\n",
       "    </tr>\n",
       "    <tr>\n",
       "      <th>32</th>\n",
       "      <td>9.203759</td>\n",
       "      <td>81.139474</td>\n",
       "      <td>4.956203</td>\n",
       "      <td>0.864474</td>\n",
       "      <td>1.859023</td>\n",
       "      <td>0.057143</td>\n",
       "    </tr>\n",
       "    <tr>\n",
       "      <th>33</th>\n",
       "      <td>27.100884</td>\n",
       "      <td>53.239323</td>\n",
       "      <td>7.739617</td>\n",
       "      <td>1.087187</td>\n",
       "      <td>7.095729</td>\n",
       "      <td>0.574521</td>\n",
       "    </tr>\n",
       "    <tr>\n",
       "      <th>34</th>\n",
       "      <td>3.321918</td>\n",
       "      <td>91.319178</td>\n",
       "      <td>1.227740</td>\n",
       "      <td>0.142808</td>\n",
       "      <td>2.191438</td>\n",
       "      <td>0.016096</td>\n",
       "    </tr>\n",
       "    <tr>\n",
       "      <th>35</th>\n",
       "      <td>18.749500</td>\n",
       "      <td>56.488761</td>\n",
       "      <td>14.387862</td>\n",
       "      <td>0.115335</td>\n",
       "      <td>8.159990</td>\n",
       "      <td>0.031319</td>\n",
       "    </tr>\n",
       "    <tr>\n",
       "      <th>37</th>\n",
       "      <td>45.282932</td>\n",
       "      <td>40.697992</td>\n",
       "      <td>1.755020</td>\n",
       "      <td>9.248594</td>\n",
       "      <td>1.234337</td>\n",
       "      <td>0.042771</td>\n",
       "    </tr>\n",
       "    <tr>\n",
       "      <th>38</th>\n",
       "      <td>17.241425</td>\n",
       "      <td>56.470105</td>\n",
       "      <td>15.668046</td>\n",
       "      <td>0.321639</td>\n",
       "      <td>7.897159</td>\n",
       "      <td>0.023451</td>\n",
       "    </tr>\n",
       "    <tr>\n",
       "      <th>39</th>\n",
       "      <td>8.464763</td>\n",
       "      <td>64.597651</td>\n",
       "      <td>21.395117</td>\n",
       "      <td>1.085491</td>\n",
       "      <td>2.317457</td>\n",
       "      <td>0.052326</td>\n",
       "    </tr>\n",
       "    <tr>\n",
       "      <th>40</th>\n",
       "      <td>2.832683</td>\n",
       "      <td>87.448293</td>\n",
       "      <td>1.284390</td>\n",
       "      <td>5.651220</td>\n",
       "      <td>0.961951</td>\n",
       "      <td>0.000000</td>\n",
       "    </tr>\n",
       "    <tr>\n",
       "      <th>41</th>\n",
       "      <td>3.672084</td>\n",
       "      <td>75.903060</td>\n",
       "      <td>16.207276</td>\n",
       "      <td>0.168888</td>\n",
       "      <td>1.621081</td>\n",
       "      <td>0.022645</td>\n",
       "    </tr>\n",
       "    <tr>\n",
       "      <th>43</th>\n",
       "      <td>10.079904</td>\n",
       "      <td>66.059426</td>\n",
       "      <td>8.314737</td>\n",
       "      <td>6.716842</td>\n",
       "      <td>1.801148</td>\n",
       "      <td>0.106220</td>\n",
       "    </tr>\n",
       "    <tr>\n",
       "      <th>44</th>\n",
       "      <td>11.441212</td>\n",
       "      <td>78.395515</td>\n",
       "      <td>1.730788</td>\n",
       "      <td>1.000242</td>\n",
       "      <td>3.594909</td>\n",
       "      <td>0.345333</td>\n",
       "    </tr>\n",
       "    <tr>\n",
       "      <th>45</th>\n",
       "      <td>6.128014</td>\n",
       "      <td>77.383854</td>\n",
       "      <td>11.633948</td>\n",
       "      <td>0.119269</td>\n",
       "      <td>2.797751</td>\n",
       "      <td>0.019394</td>\n",
       "    </tr>\n",
       "    <tr>\n",
       "      <th>46</th>\n",
       "      <td>98.893574</td>\n",
       "      <td>0.773619</td>\n",
       "      <td>0.092559</td>\n",
       "      <td>0.002818</td>\n",
       "      <td>0.075197</td>\n",
       "      <td>0.001240</td>\n",
       "    </tr>\n",
       "    <tr>\n",
       "      <th>47</th>\n",
       "      <td>13.356667</td>\n",
       "      <td>74.325417</td>\n",
       "      <td>5.682917</td>\n",
       "      <td>0.346250</td>\n",
       "      <td>3.247500</td>\n",
       "      <td>0.035833</td>\n",
       "    </tr>\n",
       "    <tr>\n",
       "      <th>49</th>\n",
       "      <td>5.056685</td>\n",
       "      <td>62.888736</td>\n",
       "      <td>28.750916</td>\n",
       "      <td>0.292399</td>\n",
       "      <td>1.249176</td>\n",
       "      <td>0.046978</td>\n",
       "    </tr>\n",
       "    <tr>\n",
       "      <th>50</th>\n",
       "      <td>3.239640</td>\n",
       "      <td>82.500901</td>\n",
       "      <td>1.423874</td>\n",
       "      <td>9.417568</td>\n",
       "      <td>1.019369</td>\n",
       "      <td>0.041892</td>\n",
       "    </tr>\n",
       "    <tr>\n",
       "      <th>51</th>\n",
       "      <td>4.720027</td>\n",
       "      <td>73.490088</td>\n",
       "      <td>18.283817</td>\n",
       "      <td>0.226635</td>\n",
       "      <td>1.407283</td>\n",
       "      <td>0.043156</td>\n",
       "    </tr>\n",
       "    <tr>\n",
       "      <th>52</th>\n",
       "      <td>38.046738</td>\n",
       "      <td>44.687909</td>\n",
       "      <td>11.650048</td>\n",
       "      <td>0.261144</td>\n",
       "      <td>3.669696</td>\n",
       "      <td>0.068816</td>\n",
       "    </tr>\n",
       "    <tr>\n",
       "      <th>53</th>\n",
       "      <td>13.468376</td>\n",
       "      <td>79.406838</td>\n",
       "      <td>1.017949</td>\n",
       "      <td>1.081368</td>\n",
       "      <td>2.196068</td>\n",
       "      <td>0.825983</td>\n",
       "    </tr>\n",
       "    <tr>\n",
       "      <th>55</th>\n",
       "      <td>1.609290</td>\n",
       "      <td>93.983060</td>\n",
       "      <td>0.980874</td>\n",
       "      <td>0.301639</td>\n",
       "      <td>1.238798</td>\n",
       "      <td>0.030601</td>\n",
       "    </tr>\n",
       "    <tr>\n",
       "      <th>56</th>\n",
       "      <td>8.011016</td>\n",
       "      <td>63.271048</td>\n",
       "      <td>20.175998</td>\n",
       "      <td>0.212453</td>\n",
       "      <td>5.455242</td>\n",
       "      <td>0.064715</td>\n",
       "    </tr>\n",
       "    <tr>\n",
       "      <th>57</th>\n",
       "      <td>11.140969</td>\n",
       "      <td>72.038408</td>\n",
       "      <td>3.384429</td>\n",
       "      <td>1.410727</td>\n",
       "      <td>7.022007</td>\n",
       "      <td>0.609896</td>\n",
       "    </tr>\n",
       "    <tr>\n",
       "      <th>58</th>\n",
       "      <td>1.290909</td>\n",
       "      <td>92.176240</td>\n",
       "      <td>3.662810</td>\n",
       "      <td>0.152686</td>\n",
       "      <td>0.682438</td>\n",
       "      <td>0.026446</td>\n",
       "    </tr>\n",
       "    <tr>\n",
       "      <th>59</th>\n",
       "      <td>6.683333</td>\n",
       "      <td>79.864009</td>\n",
       "      <td>8.195187</td>\n",
       "      <td>0.953664</td>\n",
       "      <td>2.404239</td>\n",
       "      <td>0.020833</td>\n",
       "    </tr>\n",
       "  </tbody>\n",
       "</table>\n",
       "</div>"
      ],
      "text/plain": [
       "     Hispanic      White      Black     Native      Asian   Pacific\n",
       "0    3.751616  61.878656  31.252976   0.453231   1.050255  0.034354\n",
       "1    5.909581  60.910180   2.848503  16.391018   5.450299  1.058683\n",
       "2   29.565921  57.120000   3.850987   4.355066   2.876579  0.167632\n",
       "3    6.215474  71.137810  18.968759   0.522920   1.142336  0.146861\n",
       "4   37.291875  40.215789   5.677396   0.405292  13.052234  0.351410\n",
       "5   20.784380  69.895572   3.546377   0.573833   2.661997  0.000000\n",
       "7   15.604831  67.677053  10.348068   0.126208   4.021981  0.018599\n",
       "8    8.824766  64.632710  20.743925   0.259813   3.268692  0.000000\n",
       "9    9.165922  33.103911  51.776536   0.200559   3.383240  0.029609\n",
       "10  21.338543  59.083749  15.165676   0.210451   2.283174  0.051510\n",
       "11   8.418242  54.286306  32.088298   0.187583   3.097649  0.046602\n",
       "13   9.186709  25.032278   2.052848   0.144937  36.592089  8.758861\n",
       "14  11.505369  83.136242   0.566779   1.468121   1.135906  0.127181\n",
       "15  15.601734  60.859807  17.108411   0.118427   4.475377  0.020032\n",
       "16   6.536744  78.431894  11.186977   0.194086   1.578272  0.032625\n",
       "17   5.303645  87.719684   3.256987   0.289793   1.699392  0.055164\n",
       "19  11.644342  75.958289   6.567895   0.733947   2.331053  0.000000\n",
       "20   3.222994  85.230748   8.272317   0.166637   1.129847  0.046438\n",
       "21   4.866489  54.978546  36.326241   0.484309   1.669060  0.039184\n",
       "22   1.431909  93.707407   1.134473   0.788319   0.965812  0.015670\n",
       "23   8.472498  52.679050  30.677754   0.203096   5.325414  0.036285\n",
       "25  11.461066  73.041052   6.833128   0.128279   5.835656  0.019809\n",
       "26   4.634993  72.381722  17.633103   0.484411   2.423110  0.019549\n",
       "27   5.152924  81.427061   5.659820   1.069040   4.156072  0.032909\n",
       "28   2.842401  53.286322  41.491945   0.389970   0.876444  0.015046\n",
       "29   4.037248  77.508069  14.122118   0.363329   1.624496  0.101657\n",
       "31   3.268889  86.415556   0.429259   7.060741   0.570370  0.072222\n",
       "32   9.203759  81.139474   4.956203   0.864474   1.859023  0.057143\n",
       "33  27.100884  53.239323   7.739617   1.087187   7.095729  0.574521\n",
       "34   3.321918  91.319178   1.227740   0.142808   2.191438  0.016096\n",
       "35  18.749500  56.488761  14.387862   0.115335   8.159990  0.031319\n",
       "37  45.282932  40.697992   1.755020   9.248594   1.234337  0.042771\n",
       "38  17.241425  56.470105  15.668046   0.321639   7.897159  0.023451\n",
       "39   8.464763  64.597651  21.395117   1.085491   2.317457  0.052326\n",
       "40   2.832683  87.448293   1.284390   5.651220   0.961951  0.000000\n",
       "41   3.672084  75.903060  16.207276   0.168888   1.621081  0.022645\n",
       "43  10.079904  66.059426   8.314737   6.716842   1.801148  0.106220\n",
       "44  11.441212  78.395515   1.730788   1.000242   3.594909  0.345333\n",
       "45   6.128014  77.383854  11.633948   0.119269   2.797751  0.019394\n",
       "46  98.893574   0.773619   0.092559   0.002818   0.075197  0.001240\n",
       "47  13.356667  74.325417   5.682917   0.346250   3.247500  0.035833\n",
       "49   5.056685  62.888736  28.750916   0.292399   1.249176  0.046978\n",
       "50   3.239640  82.500901   1.423874   9.417568   1.019369  0.041892\n",
       "51   4.720027  73.490088  18.283817   0.226635   1.407283  0.043156\n",
       "52  38.046738  44.687909  11.650048   0.261144   3.669696  0.068816\n",
       "53  13.468376  79.406838   1.017949   1.081368   2.196068  0.825983\n",
       "55   1.609290  93.983060   0.980874   0.301639   1.238798  0.030601\n",
       "56   8.011016  63.271048  20.175998   0.212453   5.455242  0.064715\n",
       "57  11.140969  72.038408   3.384429   1.410727   7.022007  0.609896\n",
       "58   1.290909  92.176240   3.662810   0.152686   0.682438  0.026446\n",
       "59   6.683333  79.864009   8.195187   0.953664   2.404239  0.020833"
      ]
     },
     "execution_count": 36,
     "metadata": {},
     "output_type": "execute_result"
    }
   ],
   "source": [
    "us_census = us_census.replace('%*','',regex=True)\n",
    "us_census[[\"Hispanic\",\"White\",\"Black\",\"Native\",\"Asian\",\"Pacific\"]] =us_census[[\"Hispanic\",\"White\",\"Black\",\"Native\",\"Asian\",\"Pacific\"]].apply(pd.to_numeric)\n",
    "us_census[[\"Hispanic\",\"White\",\"Black\",\"Native\",\"Asian\",\"Pacific\"]].fillna(0)"
   ]
  },
  {
   "cell_type": "code",
   "execution_count": 37,
   "metadata": {},
   "outputs": [
    {
     "data": {
      "text/plain": [
       "0     False\n",
       "1     False\n",
       "2     False\n",
       "3     False\n",
       "4     False\n",
       "5     False\n",
       "7     False\n",
       "8     False\n",
       "9     False\n",
       "10    False\n",
       "11    False\n",
       "13    False\n",
       "14    False\n",
       "15    False\n",
       "16    False\n",
       "17    False\n",
       "19    False\n",
       "20    False\n",
       "21    False\n",
       "22    False\n",
       "23    False\n",
       "25    False\n",
       "26    False\n",
       "27    False\n",
       "28    False\n",
       "29    False\n",
       "31    False\n",
       "32    False\n",
       "33    False\n",
       "34    False\n",
       "35    False\n",
       "37    False\n",
       "38    False\n",
       "39    False\n",
       "40    False\n",
       "41    False\n",
       "43    False\n",
       "44    False\n",
       "45    False\n",
       "46    False\n",
       "47    False\n",
       "49    False\n",
       "50    False\n",
       "51    False\n",
       "52    False\n",
       "53    False\n",
       "55    False\n",
       "56    False\n",
       "57    False\n",
       "58    False\n",
       "59    False\n",
       "dtype: bool"
      ]
     },
     "execution_count": 37,
     "metadata": {},
     "output_type": "execute_result"
    }
   ],
   "source": [
    "us_census.duplicated()"
   ]
  },
  {
   "cell_type": "markdown",
   "metadata": {},
   "source": [
    "Making histograms for each race."
   ]
  },
  {
   "cell_type": "code",
   "execution_count": 38,
   "metadata": {},
   "outputs": [
    {
     "data": {
      "text/plain": [
       "<matplotlib.axes._subplots.AxesSubplot at 0x213aee32b88>"
      ]
     },
     "execution_count": 38,
     "metadata": {},
     "output_type": "execute_result"
    },
    {
     "data": {
      "image/png": "[encoded data removed]",
      "text/plain": [
       "<Figure size 432x288 with 1 Axes>"
      ]
     },
     "metadata": {
      "needs_background": "light"
     },
     "output_type": "display_data"
    }
   ],
   "source": [
    "us_census['Hispanic'].hist(rwidth=0.90,color='blue')"
   ]
  },
  {
   "cell_type": "code",
   "execution_count": 39,
   "metadata": {},
   "outputs": [
    {
     "data": {
      "text/plain": [
       "<matplotlib.axes._subplots.AxesSubplot at 0x213aec5ab48>"
      ]
     },
     "execution_count": 39,
     "metadata": {},
     "output_type": "execute_result"
    },
    {
     "data": {
      "image/png": "[encoded data removed]",
      "text/plain": [
       "<Figure size 432x288 with 1 Axes>"
      ]
     },
     "metadata": {
      "needs_background": "light"
     },
     "output_type": "display_data"
    }
   ],
   "source": [
    "us_census['White'].hist(rwidth=0.90,color='red')"
   ]
  },
  {
   "cell_type": "code",
   "execution_count": 40,
   "metadata": {},
   "outputs": [
    {
     "data": {
      "text/plain": [
       "<matplotlib.axes._subplots.AxesSubplot at 0x213ae592cc8>"
      ]
     },
     "execution_count": 40,
     "metadata": {},
     "output_type": "execute_result"
    },
    {
     "data": {
      "image/png": "[encoded data removed]",
      "text/plain": [
       "<Figure size 432x288 with 1 Axes>"
      ]
     },
     "metadata": {
      "needs_background": "light"
     },
     "output_type": "display_data"
    }
   ],
   "source": [
    "us_census['Black'].hist(rwidth=0.90,color='green')"
   ]
  },
  {
   "cell_type": "code",
   "execution_count": 41,
   "metadata": {},
   "outputs": [
    {
     "data": {
      "text/plain": [
       "<matplotlib.axes._subplots.AxesSubplot at 0x213af016f88>"
      ]
     },
     "execution_count": 41,
     "metadata": {},
     "output_type": "execute_result"
    },
    {
     "data": {
      "image/png": "[encoded data removed]",
      "text/plain": [
       "<Figure size 432x288 with 1 Axes>"
      ]
     },
     "metadata": {
      "needs_background": "light"
     },
     "output_type": "display_data"
    }
   ],
   "source": [
    "us_census['Native'].hist(rwidth=0.90,color='orange')"
   ]
  },
  {
   "cell_type": "code",
   "execution_count": 42,
   "metadata": {},
   "outputs": [
    {
     "data": {
      "text/plain": [
       "<matplotlib.axes._subplots.AxesSubplot at 0x213af064d08>"
      ]
     },
     "execution_count": 42,
     "metadata": {},
     "output_type": "execute_result"
    },
    {
     "data": {
      "image/png": "[encoded data removed]",
      "text/plain": [
       "<Figure size 432x288 with 1 Axes>"
      ]
     },
     "metadata": {
      "needs_background": "light"
     },
     "output_type": "display_data"
    }
   ],
   "source": [
    "us_census['Asian'].hist(rwidth=0.90,color='brown')"
   ]
  },
  {
   "cell_type": "code",
   "execution_count": 43,
   "metadata": {},
   "outputs": [
    {
     "data": {
      "text/plain": [
       "<matplotlib.axes._subplots.AxesSubplot at 0x213af10aec8>"
      ]
     },
     "execution_count": 43,
     "metadata": {},
     "output_type": "execute_result"
    },
    {
     "data": {
      "image/png": "[encoded data removed]",
      "text/plain": [
       "<Figure size 432x288 with 1 Axes>"
      ]
     },
     "metadata": {
      "needs_background": "light"
     },
     "output_type": "display_data"
    }
   ],
   "source": [
    "us_census['Pacific'].hist(rwidth=0.90,color='purple')"
   ]
  }
 ],
 "metadata": {
  "kernelspec": {
   "display_name": "Python 3",
   "language": "python",
   "name": "python3"
  },
  "language_info": {
   "codemirror_mode": {
    "name": "ipython",
    "version": 3
   },
   "file_extension": ".py",
   "mimetype": "text/x-python",
   "name": "python",
   "nbconvert_exporter": "python",
   "pygments_lexer": "ipython3",
   "version": "3.7.7"
  }
 },
 "nbformat": 4,
 "nbformat_minor": 4
}
